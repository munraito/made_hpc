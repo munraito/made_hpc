{
 "cells": [
  {
   "cell_type": "code",
   "execution_count": 1,
   "metadata": {
    "collapsed": true,
    "jupyter": {
     "outputs_hidden": true
    }
   },
   "outputs": [
    {
     "name": "stdout",
     "output_type": "stream",
     "text": [
      "Collecting SALib\n",
      "  Downloading SALib-1.4.5-py2.py3-none-any.whl (756 kB)\n",
      "\u001b[K     |████████████████████████████████| 756 kB 1.2 MB/s eta 0:00:01\n",
      "\u001b[?25hRequirement already satisfied: pandas in /Users/munraito/opt/anaconda3/lib/python3.8/site-packages (from SALib) (1.0.5)\n",
      "Requirement already satisfied: scipy in /Users/munraito/opt/anaconda3/lib/python3.8/site-packages (from SALib) (1.5.0)\n",
      "Requirement already satisfied: numpy in /Users/munraito/opt/anaconda3/lib/python3.8/site-packages (from SALib) (1.18.5)\n",
      "Requirement already satisfied: setuptools in /Users/munraito/opt/anaconda3/lib/python3.8/site-packages (from SALib) (57.4.0)\n",
      "Requirement already satisfied: wheel in /Users/munraito/opt/anaconda3/lib/python3.8/site-packages (from SALib) (0.36.2)\n",
      "Requirement already satisfied: matplotlib in /Users/munraito/opt/anaconda3/lib/python3.8/site-packages (from SALib) (3.2.2)\n",
      "Collecting pathos\n",
      "  Downloading pathos-0.2.8-py2.py3-none-any.whl (81 kB)\n",
      "\u001b[K     |████████████████████████████████| 81 kB 2.6 MB/s eta 0:00:01\n",
      "\u001b[?25hRequirement already satisfied: pyparsing!=2.0.4,!=2.1.2,!=2.1.6,>=2.0.1 in /Users/munraito/opt/anaconda3/lib/python3.8/site-packages (from matplotlib->SALib) (2.4.7)\n",
      "Requirement already satisfied: python-dateutil>=2.1 in /Users/munraito/opt/anaconda3/lib/python3.8/site-packages (from matplotlib->SALib) (2.8.1)\n",
      "Requirement already satisfied: kiwisolver>=1.0.1 in /Users/munraito/opt/anaconda3/lib/python3.8/site-packages (from matplotlib->SALib) (1.2.0)\n",
      "Requirement already satisfied: cycler>=0.10 in /Users/munraito/opt/anaconda3/lib/python3.8/site-packages (from matplotlib->SALib) (0.10.0)\n",
      "Requirement already satisfied: six in /Users/munraito/opt/anaconda3/lib/python3.8/site-packages (from cycler>=0.10->matplotlib->SALib) (1.15.0)\n",
      "Requirement already satisfied: pytz>=2017.2 in /Users/munraito/opt/anaconda3/lib/python3.8/site-packages (from pandas->SALib) (2020.1)\n",
      "Requirement already satisfied: dill>=0.3.4 in /Users/munraito/opt/anaconda3/lib/python3.8/site-packages (from pathos->SALib) (0.3.4)\n",
      "Collecting pox>=0.3.0\n",
      "  Downloading pox-0.3.0-py2.py3-none-any.whl (30 kB)\n",
      "Requirement already satisfied: multiprocess>=0.70.12 in /Users/munraito/opt/anaconda3/lib/python3.8/site-packages (from pathos->SALib) (0.70.12.2)\n",
      "Collecting ppft>=1.6.6.4\n",
      "  Downloading ppft-1.6.6.4-py3-none-any.whl (65 kB)\n",
      "\u001b[K     |████████████████████████████████| 65 kB 2.3 MB/s eta 0:00:01\n",
      "\u001b[?25hInstalling collected packages: ppft, pox, pathos, SALib\n",
      "Successfully installed SALib-1.4.5 pathos-0.2.8 pox-0.3.0 ppft-1.6.6.4\n",
      "\u001b[33mWARNING: You are using pip version 21.2.1; however, version 21.3.1 is available.\n",
      "You should consider upgrading via the '/Users/munraito/opt/anaconda3/bin/python -m pip install --upgrade pip' command.\u001b[0m\n"
     ]
    }
   ],
   "source": [
    "# ! pip install SALib"
   ]
  },
  {
   "cell_type": "code",
   "execution_count": 2,
   "metadata": {},
   "outputs": [],
   "source": [
    "import numpy as np\n",
    "import time\n",
    "from math import sin, cos, tan, pi\n",
    "import numba\n",
    "\n",
    "from SALib.sample import saltelli\n",
    "from SALib.analyze import sobol"
   ]
  },
  {
   "cell_type": "code",
   "execution_count": 3,
   "metadata": {},
   "outputs": [],
   "source": [
    "import matplotlib.pyplot as plt\n",
    "import seaborn as sns\n",
    "from matplotlib import rc\n",
    "sns.set_style(\"whitegrid\")\n",
    "sns.set_palette(\"colorblind\")\n",
    "sns.set(rc={\n",
    "    'figure.figsize': (12, 8),\n",
    "    'legend.fontsize': 16,\n",
    "    'axes.titlesize': 16,\n",
    "    'axes.labelsize': 16\n",
    "})"
   ]
  },
  {
   "cell_type": "markdown",
   "metadata": {},
   "source": [
    "План:\n",
    "1. run and get all times in classic mode\n",
    "2. run with different evaluation function (numba)\n",
    "3. run with different sampling function (multiproc / multithread)"
   ]
  },
  {
   "cell_type": "code",
   "execution_count": 27,
   "metadata": {},
   "outputs": [],
   "source": [
    "N_SAMPLES = 2**17\n",
    "\n",
    "problem = {\n",
    "    'num_vars': 3,\n",
    "    'names': ['x0' , 'x1', 'x2'],\n",
    "    'bounds': [[-pi, pi], [-pi, pi], [-pi, pi]]\n",
    "}\n",
    "\n",
    "def run_SA(problem, eval_func, parallel_SA=False):\n",
    "    start = time.time()\n",
    "    param_values = saltelli.sample(problem, N_SAMPLES)\n",
    "    sampling_time = round(time.time() - start, 2)\n",
    "    print(\"samples generation took %s seconds\" % sampling_time)\n",
    "\n",
    "    Y = np.zeros([param_values.shape[0]])\n",
    "\n",
    "    start = time.time()\n",
    "    for i, X in enumerate(param_values):\n",
    "        Y[i] = eval_func(X)\n",
    "    eval_time = round(time.time() - start, 2)\n",
    "    print(\"function evaluation took %s seconds\" % eval_time)\n",
    "    # plt.plot(Y[:100]);\n",
    "\n",
    "    start = time.time()\n",
    "    Si = sobol.analyze(problem, Y, parallel=parallel_SA) #, print_to_console=True\n",
    "    sa_time = round(time.time() - start, 2)\n",
    "    print(\"Sobol Analysis took %s seconds\" % sa_time)\n",
    "    return Si, sampling_time, eval_time, sa_time\n",
    "\n",
    "def multivar_func_classic(x):\n",
    "    return cos(x[1]) + sin(x[1]) - tan(x[0])*x[2]**3"
   ]
  },
  {
   "cell_type": "markdown",
   "metadata": {},
   "source": [
    "### Classic run"
   ]
  },
  {
   "cell_type": "code",
   "execution_count": 28,
   "metadata": {},
   "outputs": [
    {
     "name": "stdout",
     "output_type": "stream",
     "text": [
      "samples generation took 6.56 seconds\n",
      "function evaluation took 1.5 seconds\n",
      "Sobol Analysis took 8.73 seconds\n"
     ]
    },
    {
     "data": {
      "image/png": "[encoded data removed]",
      "text/plain": [
       "<Figure size 864x576 with 3 Axes>"
      ]
     },
     "metadata": {},
     "output_type": "display_data"
    }
   ],
   "source": [
    "Si, orig_sample_time, orig_eval_time, orig_sa_time = run_SA(problem, multivar_func_classic)\n",
    "Si.plot();"
   ]
  },
  {
   "cell_type": "markdown",
   "metadata": {},
   "source": [
    "### Speed up eval function with numba"
   ]
  },
  {
   "cell_type": "code",
   "execution_count": 34,
   "metadata": {},
   "outputs": [],
   "source": [
    "@numba.njit\n",
    "def multivar_func_numba(x):\n",
    "    return cos(x[1]) + sin(x[1]) - tan(x[0])*x[2]**3"
   ]
  },
  {
   "cell_type": "code",
   "execution_count": 135,
   "metadata": {},
   "outputs": [
    {
     "name": "stdout",
     "output_type": "stream",
     "text": [
      "samples generation took 6.46 seconds\n",
      "function evaluation took 0.55 seconds\n",
      "Sobol Analysis took 9.32 seconds\n"
     ]
    }
   ],
   "source": [
    "Si, _, numba_eval_time, _ = run_SA(problem, multivar_func_numba)"
   ]
  },
  {
   "cell_type": "code",
   "execution_count": 142,
   "metadata": {},
   "outputs": [
    {
     "data": {
      "image/png": "[encoded data removed]",
      "text/plain": [
       "<Figure size 864x576 with 1 Axes>"
      ]
     },
     "metadata": {},
     "output_type": "display_data"
    }
   ],
   "source": [
    "plt.bar(['original function', 'numba'], [orig_eval_time, numba_eval_time]);"
   ]
  },
  {
   "cell_type": "markdown",
   "metadata": {},
   "source": [
    "Ускорили **Evaluation** часть почти в 4 раза"
   ]
  },
  {
   "cell_type": "markdown",
   "metadata": {},
   "source": [
    "### Speed up sampling with Multiprocessing"
   ]
  },
  {
   "cell_type": "code",
   "execution_count": 1,
   "metadata": {},
   "outputs": [],
   "source": [
    "import multiprocessing as mp\n",
    "from workers import sample_func_classic"
   ]
  },
  {
   "cell_type": "code",
   "execution_count": 12,
   "metadata": {},
   "outputs": [],
   "source": [
    "# import workers\n",
    "# from importlib import reload\n",
    "# workers = reload(workers)\n",
    "# sample_func_classic = workers.sample_func_classic"
   ]
  },
  {
   "cell_type": "code",
   "execution_count": 15,
   "metadata": {},
   "outputs": [],
   "source": [
    "def sample_func_mp(problem, n_samples):\n",
    "#     num_procs = os.cpu_count()\n",
    "    num_procs = 4\n",
    "    print('Procs num: ', num_procs)\n",
    "    n_samples_divided = n_samples // num_procs\n",
    "    print(n_samples_divided)\n",
    "    result = []\n",
    "    with mp.Pool(num_procs) as pool:\n",
    "        result = pool.map(sample_func_classic, [(problem, n_samples_divided, i+1) for i in range(num_procs)])\n",
    "    return result"
   ]
  },
  {
   "cell_type": "code",
   "execution_count": 30,
   "metadata": {},
   "outputs": [
    {
     "name": "stdout",
     "output_type": "stream",
     "text": [
      "Procs num:  4\n",
      "32768\n"
     ]
    }
   ],
   "source": [
    "N_SAMPLES = 2**17\n",
    "start = time.time()\n",
    "res = sample_func_mp(problem, N_SAMPLES)\n",
    "mp_time = round(time.time() - start, 2)"
   ]
  },
  {
   "cell_type": "code",
   "execution_count": 29,
   "metadata": {},
   "outputs": [
    {
     "data": {
      "text/plain": [
       "(True, True)"
      ]
     },
     "execution_count": 29,
     "metadata": {},
     "output_type": "execute_result"
    }
   ],
   "source": [
    "np.all(res[0] == res[1]), np.all(res[1] == res[2])"
   ]
  },
  {
   "cell_type": "code",
   "execution_count": 32,
   "metadata": {},
   "outputs": [
    {
     "data": {
      "image/png": "[encoded data removed]",
      "text/plain": [
       "<Figure size 864x576 with 1 Axes>"
      ]
     },
     "metadata": {},
     "output_type": "display_data"
    }
   ],
   "source": [
    "plt.bar(['original sampling', 'multiproc'], [orig_sample_time, mp_time]);"
   ]
  },
  {
   "cell_type": "markdown",
   "metadata": {},
   "source": [
    "Время выполнения функции сэмплинга довольно заметно ускорилось, однако были сгенерированы идентичные массивы, следовательно это не принесло бы нам никакой пользы.\n",
    "\n",
    "Т.к. в функции **saltelli.sample()** сэмплы генерируется последовательно и детерминированно, как-то распараллелить ее полезным образом не представляется возможным."
   ]
  },
  {
   "cell_type": "markdown",
   "metadata": {},
   "source": [
    "### Speed up analyze function with internal flag"
   ]
  },
  {
   "cell_type": "code",
   "execution_count": 33,
   "metadata": {},
   "outputs": [
    {
     "name": "stdout",
     "output_type": "stream",
     "text": [
      "samples generation took 6.82 seconds\n",
      "function evaluation took 0.57 seconds\n",
      "Sobol Analysis took 8.35 seconds\n"
     ]
    }
   ],
   "source": [
    "Si, _, _, sa_parallel_time = run_SA(problem, multivar_func_numba, parallel_SA=True)"
   ]
  },
  {
   "cell_type": "code",
   "execution_count": 36,
   "metadata": {},
   "outputs": [
    {
     "data": {
      "image/png": "[encoded data removed]",
      "text/plain": [
       "<Figure size 864x576 with 1 Axes>"
      ]
     },
     "metadata": {},
     "output_type": "display_data"
    }
   ],
   "source": [
    "plt.bar(['original SA', 'SA with parallel=True'], [orig_sa_time, sa_parallel_time]);"
   ]
  },
  {
   "cell_type": "markdown",
   "metadata": {},
   "source": [
    "Флаг parallel в функции **sobol.analyze()** пакета SALib не принес какого-либо значимого прироста производительности."
   ]
  },
  {
   "cell_type": "code",
   "execution_count": null,
   "metadata": {},
   "outputs": [],
   "source": []
  }
 ],
 "metadata": {
  "kernelspec": {
   "display_name": "Python 3",
   "language": "python",
   "name": "python3"
  },
  "language_info": {
   "codemirror_mode": {
    "name": "ipython",
    "version": 3
   },
   "file_extension": ".py",
   "mimetype": "text/x-python",
   "name": "python",
   "nbconvert_exporter": "python",
   "pygments_lexer": "ipython3",
   "version": "3.8.3"
  }
 },
 "nbformat": 4,
 "nbformat_minor": 4
}
